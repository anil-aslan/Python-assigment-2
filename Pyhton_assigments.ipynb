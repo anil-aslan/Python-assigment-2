{
  "nbformat": 4,
  "nbformat_minor": 0,
  "metadata": {
    "colab": {
      "name": "Pyhton assigments",
      "provenance": [],
      "authorship_tag": "ABX9TyPgOpLbYO+AucM3noJisdXA",
      "include_colab_link": true
    },
    "kernelspec": {
      "name": "python3",
      "display_name": "Python 3"
    },
    "language_info": {
      "name": "python"
    }
  },
  "cells": [
    {
      "cell_type": "markdown",
      "metadata": {
        "id": "view-in-github",
        "colab_type": "text"
      },
      "source": [
        "<a href=\"https://colab.research.google.com/github/anil-aslan/Python-assigment-2/blob/main/Pyhton_assigments.ipynb\" target=\"_parent\"><img src=\"https://colab.research.google.com/assets/colab-badge.svg\" alt=\"Open In Colab\"/></a>"
      ]
    },
    {
      "cell_type": "code",
      "metadata": {
        "id": "cSAQiQ0srzAd"
      },
      "source": [
        "age = input(\"Are you a cigarette addict older than 75 years old? : \") # can be assigned only True/False\n",
        "chronic = input(\"Do you have a severe chronic disease? : \")  # can be assigned only True/False\n",
        "immune = input(\"Is your immune system too weak? : \") \n",
        "\n",
        "risk = age or chronic or immune\n",
        "\n",
        "if risk == \"True\"  :\n",
        "  print(\"You are in risky group\")\n",
        "else :\n",
        "  print(\"Your are not in risky group\")\n",
        "\n",
        "\n"
      ],
      "execution_count": null,
      "outputs": []
    }
  ]
}